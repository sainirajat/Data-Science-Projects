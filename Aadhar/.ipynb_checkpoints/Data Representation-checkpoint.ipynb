{
 "cells": [
  {
   "cell_type": "code",
   "execution_count": 1,
   "metadata": {},
   "outputs": [],
   "source": [
    "import numpy as np\n",
    "import matplotlib.pyplot as plt\n",
    "%matplotlib inline\n",
    "import pandas as pd\n",
    "from collections import Counter"
   ]
  },
  {
   "cell_type": "code",
   "execution_count": 2,
   "metadata": {},
   "outputs": [
    {
     "name": "stderr",
     "output_type": "stream",
     "text": [
      "/usr/local/lib/python2.7/site-packages/h5py/__init__.py:36: FutureWarning: Conversion of the second argument of issubdtype from `float` to `np.floating` is deprecated. In future, it will be treated as `np.float64 == np.dtype(float).type`.\n",
      "  from ._conv import register_converters as _register_converters\n",
      "Using TensorFlow backend.\n"
     ]
    }
   ],
   "source": [
    "from keras.utils import np_utils\n",
    "from sklearn.preprocessing import LabelEncoder"
   ]
  },
  {
   "cell_type": "code",
   "execution_count": 3,
   "metadata": {},
   "outputs": [
    {
     "name": "stdout",
     "output_type": "stream",
     "text": [
      "(119998, 12)\n"
     ]
    }
   ],
   "source": [
    "df = pd.read_csv('./aadhaar_data.csv')\n",
    "print df.shape"
   ]
  },
  {
   "cell_type": "code",
   "execution_count": 4,
   "metadata": {},
   "outputs": [
    {
     "name": "stdout",
     "output_type": "stream",
     "text": [
      "(119998, 12)\n"
     ]
    }
   ],
   "source": [
    "df = df.dropna()\n",
    "print df.shape"
   ]
  },
  {
   "cell_type": "code",
   "execution_count": 5,
   "metadata": {},
   "outputs": [
    {
     "name": "stdout",
     "output_type": "stream",
     "text": [
      "Index([u'Registrar', u'Enrolment Agency', u'State', u'District',\n",
      "       u'Sub District', u'Pin Code', u'Gender', u'Age', u'Aadhaar generated',\n",
      "       u'Enrolment Rejected', u'Residents providing email',\n",
      "       u'Residents providing mobile number'],\n",
      "      dtype='object')\n"
     ]
    }
   ],
   "source": [
    "print df.columns"
   ]
  },
  {
   "cell_type": "code",
   "execution_count": 6,
   "metadata": {},
   "outputs": [
    {
     "name": "stdout",
     "output_type": "stream",
     "text": [
      "<class 'pandas.core.series.Series'>\n"
     ]
    }
   ],
   "source": [
    "print type(df['Registrar'])"
   ]
  },
  {
   "cell_type": "code",
   "execution_count": 7,
   "metadata": {
    "scrolled": true
   },
   "outputs": [],
   "source": [
    "regi = pd.Series.tolist(df['Registrar'])"
   ]
  },
  {
   "cell_type": "code",
   "execution_count": 8,
   "metadata": {
    "scrolled": true
   },
   "outputs": [
    {
     "name": "stdout",
     "output_type": "stream",
     "text": [
      "<type 'list'>\n"
     ]
    },
    {
     "data": {
      "text/plain": [
       "Counter({'Allahabad Bank': 803,\n",
       "         'Bank Of India': 67037,\n",
       "         'Bank of Baroda': 3655,\n",
       "         'Bank of Maharashtra': 4283,\n",
       "         'CSC e-Governance Services India Limited': 34143,\n",
       "         'Central Bank of India': 10077})"
      ]
     },
     "execution_count": 8,
     "metadata": {},
     "output_type": "execute_result"
    }
   ],
   "source": [
    "print type(regi)\n",
    "Counter(regi)"
   ]
  },
  {
   "cell_type": "code",
   "execution_count": 9,
   "metadata": {},
   "outputs": [],
   "source": [
    "allRegi = {}\n",
    "temp = 0\n",
    "for ix in regi:\n",
    "    if ix in allRegi:\n",
    "        allRegi[ix] = allRegi[ix] + 1\n",
    "    else:\n",
    "        allRegi[ix] = 0\n"
   ]
  },
  {
   "cell_type": "code",
   "execution_count": 16,
   "metadata": {},
   "outputs": [
    {
     "name": "stdout",
     "output_type": "stream",
     "text": [
      "{'Central Bank of India': 10076, 'Bank of Maharashtra': 4282, 'Bank Of India': 67036, 'CSC e-Governance Services India Limited': 34142, 'Allahabad Bank': 802, 'Bank of Baroda': 3654}\n"
     ]
    }
   ],
   "source": [
    "print allRegi"
   ]
  },
  {
   "cell_type": "code",
   "execution_count": 11,
   "metadata": {},
   "outputs": [],
   "source": [
    "keys = []\n",
    "for key in allRegi:\n",
    "    keys.append(key)"
   ]
  },
  {
   "cell_type": "code",
   "execution_count": 12,
   "metadata": {},
   "outputs": [
    {
     "name": "stdout",
     "output_type": "stream",
     "text": [
      "['Central Bank of India', 'Bank of Maharashtra', 'Bank Of India', 'CSC e-Governance Services India Limited', 'Allahabad Bank', 'Bank of Baroda']\n"
     ]
    }
   ],
   "source": [
    "print keys"
   ]
  },
  {
   "cell_type": "code",
   "execution_count": 13,
   "metadata": {},
   "outputs": [],
   "source": [
    "values = []\n",
    "for key in allRegi:\n",
    "    values.append(allRegi[key])"
   ]
  },
  {
   "cell_type": "code",
   "execution_count": 14,
   "metadata": {},
   "outputs": [
    {
     "name": "stdout",
     "output_type": "stream",
     "text": [
      "[10076, 4282, 67036, 34142, 802, 3654]\n"
     ]
    }
   ],
   "source": [
    "print values"
   ]
  },
  {
   "cell_type": "code",
   "execution_count": 21,
   "metadata": {},
   "outputs": [
    {
     "data": {
      "text/plain": [
       "(-1.1117684178267004,\n",
       " 1.1957073384758954,\n",
       " -1.1107214863198878,\n",
       " 1.1170820652042257)"
      ]
     },
     "execution_count": 21,
     "metadata": {},
     "output_type": "execute_result"
    },
    {
     "data": {
      "image/png": "[encoded data removed]",
      "text/plain": [
       "<matplotlib.figure.Figure at 0x119a03f10>"
      ]
     },
     "metadata": {},
     "output_type": "display_data"
    }
   ],
   "source": [
    "explode = (0,0,0,0.1,0,0)\n",
    "fig1,ax1 = plt.subplots()\n",
    "ax1.pie(values,explode=explode,labels=keys,shadow=True,startangle=90)\n",
    "ax1.axis('equal')"
   ]
  },
  {
   "cell_type": "code",
   "execution_count": null,
   "metadata": {},
   "outputs": [],
   "source": []
  },
  {
   "cell_type": "code",
   "execution_count": 22,
   "metadata": {},
   "outputs": [
    {
     "name": "stdout",
     "output_type": "stream",
     "text": [
      "Index([u'Registrar', u'Enrolment Agency', u'State', u'District',\n",
      "       u'Sub District', u'Pin Code', u'Gender', u'Age', u'Aadhaar generated',\n",
      "       u'Enrolment Rejected', u'Residents providing email',\n",
      "       u'Residents providing mobile number'],\n",
      "      dtype='object')\n"
     ]
    }
   ],
   "source": [
    "print df.columns"
   ]
  },
  {
   "cell_type": "code",
   "execution_count": 23,
   "metadata": {},
   "outputs": [],
   "source": [
    "df = df.drop(['District','Sub District'],axis=1)"
   ]
  },
  {
   "cell_type": "code",
   "execution_count": 25,
   "metadata": {},
   "outputs": [
    {
     "name": "stdout",
     "output_type": "stream",
     "text": [
      "(119998, 7)\n"
     ]
    }
   ],
   "source": [
    "df = df.drop(['Pin Code','Residents providing email',\n",
    "       'Residents providing mobile number'],axis=1)\n",
    "print df.shape"
   ]
  },
  {
   "cell_type": "code",
   "execution_count": 27,
   "metadata": {},
   "outputs": [
    {
     "name": "stdout",
     "output_type": "stream",
     "text": [
      "Index([u'State', u'Gender', u'Age', u'Aadhaar generated',\n",
      "       u'Enrolment Rejected'],\n",
      "      dtype='object')\n"
     ]
    }
   ],
   "source": [
    "df = df.drop(['Registrar','Enrolment Agency'],axis=1)\n",
    "print df.columns"
   ]
  },
  {
   "cell_type": "code",
   "execution_count": 28,
   "metadata": {},
   "outputs": [
    {
     "name": "stdout",
     "output_type": "stream",
     "text": [
      "(119998, 5)\n"
     ]
    }
   ],
   "source": [
    "print df.shape"
   ]
  },
  {
   "cell_type": "code",
   "execution_count": 32,
   "metadata": {},
   "outputs": [
    {
     "name": "stdout",
     "output_type": "stream",
     "text": [
      "<class 'pandas.core.series.Series'>\n",
      "<type 'list'>\n"
     ]
    }
   ],
   "source": [
    "stateList = df['State']\n",
    "print type(stateList)\n",
    "stateList = pd.Series.tolist(stateList)\n",
    "print type(stateList)"
   ]
  },
  {
   "cell_type": "code",
   "execution_count": 35,
   "metadata": {},
   "outputs": [
    {
     "name": "stdout",
     "output_type": "stream",
     "text": [
      "{'Haryana': 8324, 'Punjab': 7077, 'Chhattisgarh': 30, 'Kerala': 36, 'Bihar': 676, 'Tamil Nadu': 220, 'Chandigarh': 34, 'Jammu and Kashmir': 48, 'Dadra and Nagar Haveli': 0, 'Jharkhand': 13338, 'Meghalaya': 0, 'Delhi': 1266, 'Assam': 37, 'Madhya Pradesh': 50364, 'West Bengal': 210, 'Rajasthan': 8681, 'Uttar Pradesh': 1029, 'Manipur': 4, 'Andhra Pradesh': 858, 'Himachal Pradesh': 150, 'Others': 67, 'Gujarat': 84, 'Arunachal Pradesh': 3, 'Maharashtra': 15984, 'Tripura': 744, 'Uttarakhand': 64, 'Puducherry': 33, 'Karnataka': 10479, 'Odisha': 129}\n"
     ]
    }
   ],
   "source": [
    "states = {}\n",
    "for ix in stateList:\n",
    "    if ix in states:\n",
    "        states[ix] = states[ix]+1\n",
    "    else:\n",
    "        states[ix] = 0\n",
    "        \n",
    "print states"
   ]
  },
  {
   "cell_type": "code",
   "execution_count": 54,
   "metadata": {},
   "outputs": [],
   "source": [
    "values2 = []\n",
    "for ix in states:\n",
    "    values2.append(states[ix])"
   ]
  },
  {
   "cell_type": "code",
   "execution_count": 58,
   "metadata": {},
   "outputs": [
    {
     "name": "stdout",
     "output_type": "stream",
     "text": [
      "['Haryana', 'Punjab', 'Chhattisgarh', 'Kerala', 'Bihar', 'Tamil Nadu', 'Chandigarh', 'Jammu and Kashmir', 'Dadra and Nagar Haveli', 'Jharkhand', 'Meghalaya', 'Delhi', 'Assam', 'Madhya Pradesh', 'West Bengal', 'Rajasthan', 'Uttar Pradesh', 'Manipur', 'Andhra Pradesh', 'Himachal Pradesh', 'Others', 'Gujarat', 'Arunachal Pradesh', 'Maharashtra', 'Tripura', 'Uttarakhand', 'Puducherry', 'Karnataka', 'Odisha']\n"
     ]
    }
   ],
   "source": [
    "keys2 = []\n",
    "for ix in states:\n",
    "    keys2.append(ix)\n",
    "print keys2"
   ]
  },
  {
   "cell_type": "code",
   "execution_count": 60,
   "metadata": {},
   "outputs": [
    {
     "data": {
      "image/png": "[encoded data removed]",
      "text/plain": [
       "<matplotlib.figure.Figure at 0x119098650>"
      ]
     },
     "metadata": {},
     "output_type": "display_data"
    }
   ],
   "source": [
    "fig1,ax1 = plt.subplots()\n",
    "ax1.pie(values2,labels=keys2,shadow=True,startangle=90)\n",
    "ax1.axis('equal')\n",
    "plt.show()"
   ]
  },
  {
   "cell_type": "code",
   "execution_count": null,
   "metadata": {},
   "outputs": [],
   "source": []
  },
  {
   "cell_type": "code",
   "execution_count": null,
   "metadata": {},
   "outputs": [],
   "source": []
  },
  {
   "cell_type": "code",
   "execution_count": 61,
   "metadata": {},
   "outputs": [],
   "source": [
    "ages = df['Age']"
   ]
  },
  {
   "cell_type": "code",
   "execution_count": 90,
   "metadata": {},
   "outputs": [
    {
     "data": {
      "image/png": "[encoded data removed]",
      "text/plain": [
       "<matplotlib.figure.Figure at 0x118f7ce50>"
      ]
     },
     "metadata": {},
     "output_type": "display_data"
    }
   ],
   "source": [
    "mu, sigma = 50, 5\n",
    "x = ages\n",
    "n, bins, patches = plt.hist(x, 50, normed=1, facecolor='g', alpha=0.75)\n",
    "plt.xlabel('Age')\n",
    "plt.ylabel('Ratio of people')\n",
    "plt.title('Histogram of Age')\n",
    "plt.text(60, .025,r'Shows the ratio of Youth population')\n",
    "plt.axis([-5, 100, 0, 0.03])\n",
    "plt.grid(True)\n",
    "plt.show()"
   ]
  },
  {
   "cell_type": "code",
   "execution_count": null,
   "metadata": {},
   "outputs": [],
   "source": []
  },
  {
   "cell_type": "code",
   "execution_count": null,
   "metadata": {},
   "outputs": [],
   "source": []
  },
  {
   "cell_type": "code",
   "execution_count": 91,
   "metadata": {},
   "outputs": [
    {
     "name": "stdout",
     "output_type": "stream",
     "text": [
      "Index([u'State', u'Gender', u'Age', u'Aadhaar generated',\n",
      "       u'Enrolment Rejected'],\n",
      "      dtype='object')\n"
     ]
    }
   ],
   "source": [
    "print df.columns"
   ]
  },
  {
   "cell_type": "code",
   "execution_count": 109,
   "metadata": {},
   "outputs": [
    {
     "name": "stdout",
     "output_type": "stream",
     "text": [
      "<type 'list'>\n"
     ]
    }
   ],
   "source": [
    "Gen = {}\n",
    "gender = df['Gender']\n",
    "gender = pd.Series.tolist(gender)\n",
    "print type(gender)"
   ]
  },
  {
   "cell_type": "code",
   "execution_count": 110,
   "metadata": {},
   "outputs": [
    {
     "name": "stdout",
     "output_type": "stream",
     "text": [
      "['M', 'F', 'M', 'M', 'M']\n"
     ]
    }
   ],
   "source": [
    "print gender[:5]"
   ]
  },
  {
   "cell_type": "code",
   "execution_count": 114,
   "metadata": {},
   "outputs": [],
   "source": [
    "for ix in gender:\n",
    "    if ix in Gen:\n",
    "        Gen[ix] = Gen[ix]+1\n",
    "    else:\n",
    "        Gen[ix] = 0"
   ]
  },
  {
   "cell_type": "code",
   "execution_count": 115,
   "metadata": {},
   "outputs": [
    {
     "name": "stdout",
     "output_type": "stream",
     "text": [
      "{'M': 138335, 'F': 101659}\n"
     ]
    }
   ],
   "source": [
    "print Gen"
   ]
  },
  {
   "cell_type": "code",
   "execution_count": 121,
   "metadata": {},
   "outputs": [
    {
     "name": "stdout",
     "output_type": "stream",
     "text": [
      "[138335, 101659]\n"
     ]
    }
   ],
   "source": [
    "val2 = []\n",
    "for ix in Gen:\n",
    "    val2.append(Gen[ix])\n",
    "print val2"
   ]
  },
  {
   "cell_type": "code",
   "execution_count": 119,
   "metadata": {},
   "outputs": [],
   "source": [
    "from matplotlib.ticker import FuncFormatter"
   ]
  },
  {
   "cell_type": "code",
   "execution_count": 128,
   "metadata": {},
   "outputs": [
    {
     "data": {
      "image/png": "[encoded data removed]",
      "text/plain": [
       "<matplotlib.figure.Figure at 0x11d28ebd0>"
      ]
     },
     "metadata": {},
     "output_type": "display_data"
    }
   ],
   "source": [
    "def thousand(x,pos):\n",
    "    return '%1.1fK'% (x*1e-3)\n",
    "\n",
    "formatter = FuncFormatter(thousand)\n",
    "fig,ax = plt.subplots()\n",
    "ax.yaxis.set_major_formatter(formatter)\n",
    "plt.bar([0,1],val2)\n",
    "plt.xticks([0,1],('Male','Female'))\n",
    "plt.show()"
   ]
  },
  {
   "cell_type": "code",
   "execution_count": 139,
   "metadata": {},
   "outputs": [
    {
     "data": {
      "image/png": "[encoded data removed]",
      "text/plain": [
       "<matplotlib.figure.Figure at 0x11d078710>"
      ]
     },
     "metadata": {},
     "output_type": "display_data"
    }
   ],
   "source": [
    "labels = 'Male','Female'\n",
    "sizes = [138335, 101659]\n",
    "explode = (0, 0.1)  \n",
    "fig1, ax1 = plt.subplots()\n",
    "ax1.pie(sizes, explode=explode, labels=labels, autopct='%1.1f%%',\n",
    "        shadow=True, startangle=90)\n",
    "ax1.axis('equal')  \n",
    "plt.show()"
   ]
  },
  {
   "cell_type": "code",
   "execution_count": null,
   "metadata": {},
   "outputs": [],
   "source": []
  },
  {
   "cell_type": "code",
   "execution_count": 129,
   "metadata": {},
   "outputs": [
    {
     "name": "stdout",
     "output_type": "stream",
     "text": [
      "Index([u'State', u'Gender', u'Age', u'Aadhaar generated',\n",
      "       u'Enrolment Rejected'],\n",
      "      dtype='object')\n"
     ]
    }
   ],
   "source": [
    "print df.columns"
   ]
  },
  {
   "cell_type": "code",
   "execution_count": 131,
   "metadata": {},
   "outputs": [
    {
     "name": "stdout",
     "output_type": "stream",
     "text": [
      "(119998, 2)\n"
     ]
    }
   ],
   "source": [
    "df = df.drop(['State','Gender','Age'],axis=1)\n",
    "print df.shape"
   ]
  },
  {
   "cell_type": "code",
   "execution_count": 132,
   "metadata": {},
   "outputs": [],
   "source": [
    "generated = {'Yes':0,'No':0}\n",
    "generate = df['Aadhaar generated']"
   ]
  },
  {
   "cell_type": "code",
   "execution_count": 133,
   "metadata": {},
   "outputs": [],
   "source": [
    "generate = pd.Series.tolist(generate)\n",
    "for ix in generate:\n",
    "    if ix is 1:\n",
    "        generated['Yes'] = generated['Yes']+1\n",
    "    else:\n",
    "        generated['No'] = generated['No']+1"
   ]
  },
  {
   "cell_type": "code",
   "execution_count": 134,
   "metadata": {},
   "outputs": [
    {
     "name": "stdout",
     "output_type": "stream",
     "text": [
      "{'Yes': 73269, 'No': 46729}\n"
     ]
    }
   ],
   "source": [
    "print generated"
   ]
  },
  {
   "cell_type": "code",
   "execution_count": 138,
   "metadata": {},
   "outputs": [
    {
     "data": {
      "image/png": "[encoded data removed]",
      "text/plain": [
       "<matplotlib.figure.Figure at 0x11c2bc2d0>"
      ]
     },
     "metadata": {},
     "output_type": "display_data"
    }
   ],
   "source": [
    "labels = 'Generated','Rejected'\n",
    "sizes = [73269,46729]\n",
    "explode = (0, 0.1) \n",
    "\n",
    "fig1, ax1 = plt.subplots()\n",
    "ax1.pie(sizes, explode=explode, labels=labels, autopct='%1.1f%%',\n",
    "        shadow=True, startangle=90)\n",
    "ax1.axis('equal')  \n",
    "plt.show()"
   ]
  },
  {
   "cell_type": "code",
   "execution_count": null,
   "metadata": {},
   "outputs": [],
   "source": []
  }
 ],
 "metadata": {
  "kernelspec": {
   "display_name": "Python 2",
   "language": "python",
   "name": "python2"
  },
  "language_info": {
   "codemirror_mode": {
    "name": "ipython",
    "version": 2
   },
   "file_extension": ".py",
   "mimetype": "text/x-python",
   "name": "python",
   "nbconvert_exporter": "python",
   "pygments_lexer": "ipython2",
   "version": "2.7.14"
  }
 },
 "nbformat": 4,
 "nbformat_minor": 2
}
