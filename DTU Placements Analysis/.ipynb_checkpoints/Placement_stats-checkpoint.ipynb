{
 "cells": [
  {
   "cell_type": "code",
   "execution_count": 1,
   "metadata": {},
   "outputs": [],
   "source": [
    "import numpy as np\n",
    "import matplotlib.pyplot as plt\n",
    "import pandas as pd\n",
    "%matplotlib inline\n",
    "import math"
   ]
  },
  {
   "cell_type": "code",
   "execution_count": 2,
   "metadata": {},
   "outputs": [
    {
     "name": "stderr",
     "output_type": "stream",
     "text": [
      "/usr/local/lib/python2.7/site-packages/h5py/__init__.py:36: FutureWarning: Conversion of the second argument of issubdtype from `float` to `np.floating` is deprecated. In future, it will be treated as `np.float64 == np.dtype(float).type`.\n",
      "  from ._conv import register_converters as _register_converters\n",
      "Using TensorFlow backend.\n"
     ]
    }
   ],
   "source": [
    "from keras.utils import np_utils\n",
    "from sklearn.preprocessing import LabelEncoder"
   ]
  },
  {
   "cell_type": "code",
   "execution_count": 3,
   "metadata": {},
   "outputs": [],
   "source": [
    "df = pd.read_excel('./Placement.xlsx')"
   ]
  },
  {
   "cell_type": "code",
   "execution_count": 4,
   "metadata": {},
   "outputs": [
    {
     "name": "stdout",
     "output_type": "stream",
     "text": [
      "(749, 9)\n"
     ]
    }
   ],
   "source": [
    "print df.shape"
   ]
  },
  {
   "cell_type": "code",
   "execution_count": 5,
   "metadata": {},
   "outputs": [
    {
     "name": "stdout",
     "output_type": "stream",
     "text": [
      "Index([ u'Parameter',  u'Placement', u'Unnamed: 2', u'Unnamed: 3',\n",
      "       u'Unnamed: 4', u'Unnamed: 5', u'Unnamed: 6', u'Unnamed: 7',\n",
      "       u'Unnamed: 8'],\n",
      "      dtype='object')\n"
     ]
    }
   ],
   "source": [
    "print df.columns"
   ]
  },
  {
   "cell_type": "code",
   "execution_count": 6,
   "metadata": {},
   "outputs": [],
   "source": [
    "df = df.drop(['Parameter','Placement','Unnamed: 2','Unnamed: 4','Unnamed: 7','Unnamed: 8'],axis=1)"
   ]
  },
  {
   "cell_type": "code",
   "execution_count": 7,
   "metadata": {},
   "outputs": [
    {
     "name": "stdout",
     "output_type": "stream",
     "text": [
      "            Unnamed: 3                  Unnamed: 5                 Unnamed: 6\n",
      "0  Name of the Company  Minimum salary (in lakhs)   Maximum salary (in lakhs)\n",
      "1           BAJAJ AUTO                         7.6                        7.6\n"
     ]
    }
   ],
   "source": [
    "print df[:2]"
   ]
  },
  {
   "cell_type": "code",
   "execution_count": 8,
   "metadata": {},
   "outputs": [
    {
     "name": "stdout",
     "output_type": "stream",
     "text": [
      "(749, 3)\n"
     ]
    }
   ],
   "source": [
    "# x = x[numpy.logical_not(numpy.isnan(x))]\n",
    "print df.shape"
   ]
  },
  {
   "cell_type": "code",
   "execution_count": 9,
   "metadata": {},
   "outputs": [
    {
     "name": "stdout",
     "output_type": "stream",
     "text": [
      "(724, 3)\n",
      "(723, 3)\n"
     ]
    }
   ],
   "source": [
    "df = df.dropna(axis=0,how='any')\n",
    "print df.shape\n",
    "df = df[1:][:]\n",
    "print df.shape"
   ]
  },
  {
   "cell_type": "code",
   "execution_count": 10,
   "metadata": {},
   "outputs": [
    {
     "name": "stdout",
     "output_type": "stream",
     "text": [
      "<class 'pandas.core.frame.DataFrame'>\n"
     ]
    }
   ],
   "source": [
    "print type(df)\n",
    "df = np.array(df)"
   ]
  },
  {
   "cell_type": "code",
   "execution_count": 11,
   "metadata": {},
   "outputs": [
    {
     "name": "stdout",
     "output_type": "stream",
     "text": [
      "<type 'numpy.ndarray'>\n",
      "BAJAJ AUTO 7.6 7.6\n"
     ]
    }
   ],
   "source": [
    "print type(df)\n",
    "print df[0][0],df[0][1],df[0][2]"
   ]
  },
  {
   "cell_type": "code",
   "execution_count": 12,
   "metadata": {},
   "outputs": [
    {
     "name": "stdout",
     "output_type": "stream",
     "text": [
      "[u'INDIAN NAVY' u'as per gov' u'as per gov']\n",
      "[u'GOOGLE' u'1.27 CR' u'1.27 CR']\n",
      "[u'KSHITIJ EDUCATION' u'AICTE' u'AICTE']\n",
      "[u'TARA SPAN (MBA)' u'INT' u'INT']\n",
      "[u'Axtria' u'25-3Year' u'25-3Year']\n",
      "[u'Musigma' u'18-3Year' u'18-3Year']\n",
      "[u'Century Link' u'5+' u'5+']\n",
      "--------\n",
      "['INDIAN NAVY' '12' '12']\n",
      "['GOOGLE' '127' '127']\n",
      "['KSHITIJ EDUCATION' '7' '7']\n",
      "['TARA SPAN (MBA)' '8' '8']\n",
      "['Axtria' '25' '25']\n",
      "['Musigma' '18' '18']\n",
      "['Century Link' '5.5' '5.5']\n"
     ]
    }
   ],
   "source": [
    "print df[123]\n",
    "print df[178]\n",
    "print df[204]\n",
    "print df[212]\n",
    "print df[534]\n",
    "print df[546]\n",
    "print df[623]\n",
    "\n",
    "df[123] = ['INDIAN NAVY','12','12']\n",
    "df[178] = ['GOOGLE','127','127']\n",
    "df[204] = ['KSHITIJ EDUCATION','7','7']\n",
    "df[212] = ['TARA SPAN (MBA)','8','8']\n",
    "df[534] = ['Axtria' ,'25','25']\n",
    "df[546] = ['Musigma' ,'18','18']\n",
    "df[623] = ['Century Link','5.5','5.5']\n",
    "\n",
    "print \"--------\"\n",
    "print df[123]\n",
    "print df[178]\n",
    "print df[204]\n",
    "print df[212]\n",
    "print df[534]\n",
    "print df[546]\n",
    "print df[623]"
   ]
  },
  {
   "cell_type": "code",
   "execution_count": 13,
   "metadata": {},
   "outputs": [
    {
     "name": "stdout",
     "output_type": "stream",
     "text": [
      "[u'MANAV RACHNA' u'AICTE' u'AICTE']\n",
      "[u'VISVESHARYA GROUP OF EDU' u'AICTE' u'AICTE']\n"
     ]
    }
   ],
   "source": [
    "print df[496]\n",
    "print df[494]\n",
    "df[496] = ['MANAV RACHNA','6','8']\n",
    "df[494] = ['VISVESHARYA GROUP OF EDU' ,'8','8']"
   ]
  },
  {
   "cell_type": "code",
   "execution_count": 14,
   "metadata": {},
   "outputs": [
    {
     "name": "stdout",
     "output_type": "stream",
     "text": [
      "0\n",
      "7\n",
      "<type 'int'>\n"
     ]
    }
   ],
   "source": [
    "sum_of_max = 0\n",
    "sum_of_min = 0\n",
    "dict_min = {}\n",
    "dict_max = {}\n",
    "\n",
    "print sum_of_max\n",
    "print int(math.floor(df[1][1]))\n",
    "print type(int(math.floor(df[1][1])))\n",
    "\n",
    "sum_of_max = sum_of_max + int(math.ceil(float(df[0][1])))\n",
    "sum_of_min = sum_of_min + int(math.ceil(float(df[0][2])))\n",
    "for ix in range(1,df.shape[0]):\n",
    "    sum_of_max = sum_of_max + int(math.ceil(float(df[ix][1])))\n",
    "    sum_of_min = sum_of_min + int(math.ceil(float(df[ix][2])))\n",
    "    \n",
    "    dict_max[int(math.ceil(float(df[ix][1])))] = 0\n",
    "    dict_min[int(math.ceil(float(df[ix][2])))] = 0"
   ]
  },
  {
   "cell_type": "code",
   "execution_count": 15,
   "metadata": {},
   "outputs": [],
   "source": [
    "for ix in range(1,df.shape[0]):\n",
    "    dict_max[int(math.ceil(float(df[ix][1])))] = dict_max[int(math.ceil(float(df[ix][1])))] + 1\n",
    "    dict_min[int(math.ceil(float(df[ix][2])))] = dict_min[int(math.ceil(float(df[ix][2])))]+1"
   ]
  },
  {
   "cell_type": "code",
   "execution_count": 16,
   "metadata": {},
   "outputs": [
    {
     "name": "stdout",
     "output_type": "stream",
     "text": [
      "5911\n",
      "6282\n"
     ]
    }
   ],
   "source": [
    "print sum_of_max\n",
    "print sum_of_min"
   ]
  },
  {
   "cell_type": "code",
   "execution_count": 17,
   "metadata": {},
   "outputs": [
    {
     "name": "stdout",
     "output_type": "stream",
     "text": [
      "(723, 3)\n"
     ]
    }
   ],
   "source": [
    "print df.shape"
   ]
  },
  {
   "cell_type": "code",
   "execution_count": 18,
   "metadata": {},
   "outputs": [
    {
     "name": "stdout",
     "output_type": "stream",
     "text": [
      "8\n",
      "8\n"
     ]
    }
   ],
   "source": [
    "print sum_of_max/(df.shape[0])\n",
    "print sum_of_min/(df.shape[0])"
   ]
  },
  {
   "cell_type": "code",
   "execution_count": 19,
   "metadata": {},
   "outputs": [
    {
     "name": "stdout",
     "output_type": "stream",
     "text": [
      "<type 'builtin_function_or_method'>\n"
     ]
    }
   ],
   "source": [
    "print type(dict_min.keys)"
   ]
  },
  {
   "cell_type": "code",
   "execution_count": 20,
   "metadata": {},
   "outputs": [
    {
     "data": {
      "image/png": "[encoded data removed]",
      "text/plain": [
       "<matplotlib.figure.Figure at 0x11821a7d0>"
      ]
     },
     "metadata": {},
     "output_type": "display_data"
    }
   ],
   "source": [
    "lists = sorted(dict_max.items())\n",
    "# list2 = sorted(dict_min.items())\n",
    "x,y = zip(*lists)\n",
    "# x2,y2 = zip(*list2)\n",
    "plt.xlabel('Package')\n",
    "plt.ylabel('number of students')\n",
    "plt.plot(x,y)\n",
    "# plt.plot(x2,y2)\n",
    "plt.show()"
   ]
  },
  {
   "cell_type": "code",
   "execution_count": 21,
   "metadata": {},
   "outputs": [],
   "source": [
    "less_than_5 = 0\n",
    "between_5_to_8 = 0\n",
    "between_8_to_12 = 0\n",
    "between_12_to_20= 0\n",
    "between_20_to_40 = 0\n",
    "above_40 = 0\n",
    "\n",
    "\n",
    "for ix in range(df.shape[0]):\n",
    "    if int(math.ceil(float(df[ix][1])))<5:\n",
    "        less_than_5 = less_than_5 + 1\n",
    "    if int(math.ceil(float(df[ix][1])))<8:\n",
    "        between_5_to_8 = between_5_to_8 + 1\n",
    "    if int(math.ceil(float(df[ix][1])))<12:\n",
    "        between_8_to_12 = between_8_to_12 + 1\n",
    "    if int(math.ceil(float(df[ix][1])))<20:\n",
    "        between_12_to_20 = between_12_to_20 + 1\n",
    "    if int(math.ceil(float(df[ix][1])))<40:\n",
    "        between_20_to_40 = between_20_to_40 + 1\n",
    "    if int(math.ceil(float(df[ix][1])))>39:\n",
    "        above_40 = above_40 + 1"
   ]
  },
  {
   "cell_type": "code",
   "execution_count": 22,
   "metadata": {},
   "outputs": [
    {
     "name": "stdout",
     "output_type": "stream",
     "text": [
      "105\n",
      "471\n",
      "631\n",
      "693\n",
      "718\n",
      "5\n"
     ]
    }
   ],
   "source": [
    "print less_than_5\n",
    "print between_5_to_8\n",
    "print between_8_to_12\n",
    "print between_12_to_20\n",
    "print between_20_to_40\n",
    "print above_40"
   ]
  },
  {
   "cell_type": "code",
   "execution_count": 23,
   "metadata": {},
   "outputs": [
    {
     "name": "stdout",
     "output_type": "stream",
     "text": [
      "105\n",
      "366\n",
      "160\n",
      "62\n",
      "25\n",
      "5\n"
     ]
    }
   ],
   "source": [
    "between_20_to_40 = between_20_to_40 - between_12_to_20\n",
    "between_12_to_20 = between_12_to_20 - between_8_to_12\n",
    "between_8_to_12 = between_8_to_12 - between_5_to_8\n",
    "between_5_to_8 = between_5_to_8 - less_than_5\n",
    "print less_than_5\n",
    "print between_5_to_8\n",
    "print between_8_to_12\n",
    "print between_12_to_20\n",
    "print between_20_to_40\n",
    "print above_40"
   ]
  },
  {
   "cell_type": "code",
   "execution_count": 32,
   "metadata": {},
   "outputs": [
    {
     "data": {
      "image/png": "[encoded data removed]",
      "text/plain": [
       "<matplotlib.figure.Figure at 0x118286690>"
      ]
     },
     "metadata": {},
     "output_type": "display_data"
    }
   ],
   "source": [
    "labels =  'less_than_5','between_5_to_8','between_8_to_12','between_12_to_20','between_20_to_40','above_40'\n",
    "sizes = [less_than_5,between_5_to_8,between_8_to_12,between_12_to_20,between_20_to_40,above_40]\n",
    "explode = (0.1,0.1,0.1,0.2,0.3,0.4)\n",
    "fig1, ax1 = plt.subplots()\n",
    "ax1.pie(sizes, explode=explode, labels=labels, autopct='%1.1f%%',\n",
    "        shadow=True, startangle=90)\n",
    "ax1.axis('equal')  \n",
    "plt.show()"
   ]
  },
  {
   "cell_type": "code",
   "execution_count": null,
   "metadata": {},
   "outputs": [],
   "source": []
  }
 ],
 "metadata": {
  "kernelspec": {
   "display_name": "Python 2",
   "language": "python",
   "name": "python2"
  },
  "language_info": {
   "codemirror_mode": {
    "name": "ipython",
    "version": 2
   },
   "file_extension": ".py",
   "mimetype": "text/x-python",
   "name": "python",
   "nbconvert_exporter": "python",
   "pygments_lexer": "ipython2",
   "version": "2.7.14"
  }
 },
 "nbformat": 4,
 "nbformat_minor": 2
}
